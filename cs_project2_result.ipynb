{
  "nbformat": 4,
  "nbformat_minor": 0,
  "metadata": {
    "colab": {
      "name": "cs_project2_result.ipynb",
      "provenance": [],
      "collapsed_sections": [
        "K9TZDmqpYder",
        "aU84JLApQEjs",
        "75mMkRsSTCpD",
        "Vy-G2o5Ewk5T",
        "8fjqJqxDxzav",
        "P9VMyolAhvRp",
        "MXFbnTo_J_dg",
        "Z-GkRndrJdNl",
        "11dePhGBfe4-",
        "w8SMDAvoKBtg",
        "VVrzTE99KGA7",
        "T3kxhPF9aSFI"
      ],
      "machine_shape": "hm"
    },
    "kernelspec": {
      "name": "python3",
      "display_name": "Python 3"
    },
    "language_info": {
      "name": "python"
    },
    "accelerator": "TPU"
  },
  "cells": [
    {
      "cell_type": "markdown",
      "source": [
        "## **함수목록** - 모듈화 결과물"
      ],
      "metadata": {
        "id": "yg21D9nkRqhC"
      }
    },
    {
      "cell_type": "markdown",
      "source": [
        "### 0. 데이터 불러오기"
      ],
      "metadata": {
        "id": "UMKjE0kNSkdr"
      }
    },
    {
      "cell_type": "code",
      "source": [
        "import pickle\n",
        "import gzip\n",
        "\n",
        "# 제공받은 csv의 랜덤한 10% 추출한 pickle file\n",
        "with gzip.open(r'/content/drive/MyDrive/log-data/df_final_0.pickle','rb') as f:\n",
        "     d = pickle.load(f)"
      ],
      "metadata": {
        "id": "uVbtzEPjSuQo"
      },
      "execution_count": null,
      "outputs": []
    },
    {
      "cell_type": "code",
      "source": [
        "import pandas as pd\n",
        "import numpy as np\n",
        "from datetime import date, timedelta\n",
        "from sklearn.feature_extraction.text import CountVectorizer\n",
        "import xgboost\n",
        "from xgboost import XGBClassifier\n",
        "from sklearn.metrics import roc_auc_score"
      ],
      "metadata": {
        "id": "W9gebi1LSvve"
      },
      "execution_count": null,
      "outputs": []
    },
    {
      "cell_type": "markdown",
      "source": [
        "### 1. 전처리"
      ],
      "metadata": {
        "id": "BAJGEpVjWI4c"
      }
    },
    {
      "cell_type": "code",
      "source": [
        "# 최종 전처리 함수\n",
        "d[\"id\"] = d[\"game_id\"].astype(str) +\"_\"+ d[\"gamer_id\"]\n",
        "d2 = d.groupby(\"id\").filter(lambda x : len(x)>10) # 11개이상의 로그를 가진 유저들의 데이터만 사용\n",
        "d2[\"inDate\"] = pd.to_datetime(d2[\"inDate\"])\n",
        "d2 = d2.sort_values(by=\"inDate\", ascending=True)\n",
        "d2[\"url\"] = d2[\"url\"].apply(lambda x : x.split(\"/\")[2]).replace(\"gameInfo\",\"gameinfo\")\n",
        "d2[\"action\"] = d2[\"method\"]+\"_\"+ d2[\"url\"] #action 정의\n",
        "df = d2.drop([\"game_id\",\"gamer_id\",\"url\",\"method\",\"tableAndColumn\"],axis= 1) #id,action,inDate 제외 columns drop"
      ],
      "metadata": {
        "id": "8nbowO_fS2PN"
      },
      "execution_count": null,
      "outputs": []
    },
    {
      "cell_type": "markdown",
      "source": [
        "### 2. 기준일 설정"
      ],
      "metadata": {
        "id": "3Kc92Nm7WGf1"
      }
    },
    {
      "cell_type": "code",
      "source": [
        "# 기준일 설정\n",
        "min = df['inDate'].min() # Timestamp('2021-12-28 09:34:38.909000')\n",
        "min_date = min.to_pydatetime().date() # datetime.date(2021, 12, 28)\n",
        "max = df['inDate'].max() # Timestamp('2022-01-11 23:59:59.995000')\n",
        "max_date = max.to_pydatetime().date() # datetime.date(2022, 1, 11)\n",
        "\n",
        "# 기준일 -n일 , +m일 설정\n",
        "n = 5\n",
        "m = 3\n",
        "\n",
        "# 기준일 - 4일마다 나눔\n",
        "target_days = (max_date - min_date).days // 4 # 12.28 ~ 01.11 까지 4일마다 기준일\n",
        "target_days\n",
        "\n",
        "# 기준일 목록 - timestmap 추출\n",
        "target_list = [(max - timedelta(days=3*i)).replace(hour=10, minute=0, second=0, microsecond=0) for i in range(1, target_days +1)]\n",
        "target_list.sort()\n",
        "target_list"
      ],
      "metadata": {
        "colab": {
          "base_uri": "https://localhost:8080/"
        },
        "id": "T6yPJ7vAS_I5",
        "outputId": "b2939571-61df-4851-bcda-f1dd153423b1"
      },
      "execution_count": null,
      "outputs": [
        {
          "output_type": "execute_result",
          "data": {
            "text/plain": [
              "[Timestamp('2022-01-02 10:00:00'),\n",
              " Timestamp('2022-01-05 10:00:00'),\n",
              " Timestamp('2022-01-08 10:00:00')]"
            ]
          },
          "metadata": {},
          "execution_count": 16
        }
      ]
    },
    {
      "cell_type": "markdown",
      "source": [
        "### 3. 임베딩"
      ],
      "metadata": {
        "id": "7d4y_w5tWM3j"
      }
    },
    {
      "cell_type": "code",
      "source": [
        "# df에 라벨링 함수\n",
        "def assign_churn_df(df, i):\n",
        "  n = 5\n",
        "  m = 3\n",
        "  df = df[(df['inDate'] >= target_list[i] - timedelta(days=n)) & (df['inDate'] <= target_list[i] + timedelta(days=m))]\n",
        "  n_df = df[(df['inDate'] < target_list[i]) & (df['inDate'] >= target_list[i] - timedelta(days=n))]\n",
        "  m_df = df[(df['inDate'] > target_list[i]) & (df['inDate'] <= target_list[i] + timedelta(days=m))]\n",
        "  churn_users = set(df.id) - (set(n_df.id) & set(m_df.id))\n",
        "  df = df.assign(churn=0) #churn column\n",
        "  df.loc[df.id.isin(churn_users), 'churn'] = 1\n",
        "  return df\n",
        "\n",
        "# data의 유저별 action을 나타내는 preprocessing 함수\n",
        "def preprocessing_df(df):\n",
        "  groupby_ID = df.groupby(\"id\")\n",
        "  ID_action_list =[]\n",
        "  for key, value in groupby_ID: # 각 id당 inDate와 action을 나타냄\n",
        "    ID_action_dictionary = {}\n",
        "    ID_action_dictionary[\"id\"] = key\n",
        "    ID_action_dictionary[\"action\"] = value[\"action\"].to_list() #action의 value값을 리스트로 적용\n",
        "    ID_action_list.append(ID_action_dictionary)\n",
        "  return pd.DataFrame(ID_action_list)\n",
        "\n",
        "# 유저별 actions를 빈도수로 count vectorize 하는 함수 \n",
        "def user_vectorize(df):\n",
        "  vector = CountVectorizer()\n",
        "  corpus = df[\"action\"].apply(lambda x : \" \".join(x))\n",
        "  count_df = pd.DataFrame(vector.fit_transform(corpus).toarray(),\n",
        "                          columns=vector.get_feature_names_out(),\n",
        "                          index = df['id']\n",
        "                          )\n",
        "  return count_df"
      ],
      "metadata": {
        "id": "J-_LLtCKT0vt"
      },
      "execution_count": null,
      "outputs": []
    },
    {
      "cell_type": "markdown",
      "source": [
        "### 4. 라벨링"
      ],
      "metadata": {
        "id": "UjkGkSK5WTUM"
      }
    },
    {
      "cell_type": "code",
      "source": [
        "# 유저별 합친 데이터에 churn 라벨링 함수\n",
        "# vector화 후 target_df[i] 넣으면 사용 가능\n",
        "def assign_churn_train(df,id):\n",
        "  df = df.assign(churn=0) #churn column\n",
        "  df.loc[df.index.isin(id), 'churn'] = 1\n",
        "  return df\n",
        "\n",
        "# 라벨링된 df의 churn user id 리스트 저장 함수\n",
        "def list_churn_id(df):\n",
        "  churn_users = list(df['id'].loc[df['churn'] == 1])\n",
        "  return churn_users"
      ],
      "metadata": {
        "id": "yJWSDqY6WUmT"
      },
      "execution_count": null,
      "outputs": []
    },
    {
      "cell_type": "markdown",
      "source": [
        "### 5. 함수 적용한 데이터"
      ],
      "metadata": {
        "id": "j2e8EcK-WXsM"
      }
    },
    {
      "cell_type": "code",
      "source": [
        "# df with churn\n",
        "# 0 = 기준일 2022-01-02 10:00:00 : target_list[0]\n",
        "# 1 = 기준일 2022-01-05 10:00:00 : target_list[1]\n",
        "# 2 = 기준일 2022-01-08 10:00:00 : target_list[2]\n",
        "df1 = assign_churn_df(df,0)\n",
        "df2 = assign_churn_df(df,1)\n",
        "df3 = assign_churn_df(df,2)  \n",
        "\n",
        "# (OPTIONAL) 1000개 미만 빈도수의 action은 drop\n",
        "counts = df['action'].value_counts() # value counts\n",
        "df1 = df1[~df1['action'].isin(counts[counts < 1000].index)]\n",
        "df2 = df2[~df2['action'].isin(counts[counts < 1000].index)]\n",
        "df3 = df3[~df3['action'].isin(counts[counts < 1000].index)]\n",
        "\n",
        "\n",
        "# 유저별 action 합친 후 데이터프레임 without churn\n",
        "count_df1 = preprocessing_df(df1)\n",
        "count_df2 = preprocessing_df(df2)\n",
        "count_df3 = preprocessing_df(df3) \n",
        "\n",
        "# tf-idf 데이터프레임 without churn \n",
        "vector_count_df1 = user_vectorize(count_df1)\n",
        "vector_count_df2 = user_vectorize(count_df2)\n",
        "vector_count_df3 = user_vectorize(count_df3)\n",
        "\n",
        "# tf-idf 데이터프레임에 churn 라벨링\n",
        "train_df1 = assign_churn_train(vector_count_df1,list_churn_id(df1))\n",
        "train_df2 = assign_churn_train(vector_count_df2,list_churn_id(df2))\n",
        "train_df3 = assign_churn_train(vector_count_df3,list_churn_id(df3))\n"
      ],
      "metadata": {
        "id": "Lsrq0EizVb7k"
      },
      "execution_count": null,
      "outputs": []
    },
    {
      "cell_type": "markdown",
      "source": [
        "### 6. 모델링 전 데이터 x, y split"
      ],
      "metadata": {
        "id": "ko6cyGB5Wnfk"
      }
    },
    {
      "cell_type": "code",
      "source": [
        "# 기준일1 기준 데이터 -  2021-12-28 10:00:00.278 ~ 2022-01-05 09:59:59.798\n",
        "y_train_1 = train_df1.loc[:,'churn']\n",
        "X_train_1 = train_df1.drop('churn', axis=1)\n",
        "\n",
        "# 기준일2 기준 데이터 -  2021-12-31 10:00:00.258 ~ 2022-01-08 09:59:59.760\n",
        "y_train_2 = train_df2.loc[:,'churn']\n",
        "X_train_2 = train_df2.drop('churn', axis=1)\n",
        "\n",
        "# 기준일3 기준 데이터 -  2022-01-03 10:00:00.154 ~ 2022-01-11 09:59:59.841\n",
        "y_train_3 = train_df3.loc[:,'churn']\n",
        "X_train_3 = train_df3.drop('churn', axis=1)"
      ],
      "metadata": {
        "id": "nsmGcIIdWmmW"
      },
      "execution_count": null,
      "outputs": []
    },
    {
      "cell_type": "markdown",
      "source": [
        "7. XGBoost 모델 - 기준일 1+2 학습 후 기준일3 예측"
      ],
      "metadata": {
        "id": "RIImDFGHXKbt"
      }
    },
    {
      "cell_type": "markdown",
      "source": [
        "### 7. 기본 XGBoost Model"
      ],
      "metadata": {
        "id": "2cOzxEl_X723"
      }
    },
    {
      "cell_type": "code",
      "source": [
        "xgb = XGBClassifier()\n",
        "\n",
        "# 기준일 1 학습\n",
        "xgb.fit(X_train_1,y_train_1)\n",
        "\n",
        "# 기준일 2 예측\n",
        "y_pred_1 = xgb.predict(X_train_2)\n",
        "roc_score = roc_auc_score(y_train_2, y_pred_1)\n",
        "print('ROC AUC 값 : {0:.4f}'.format(roc_score))"
      ],
      "metadata": {
        "colab": {
          "base_uri": "https://localhost:8080/"
        },
        "id": "4XNx0gDUY5JY",
        "outputId": "56338e15-5492-493c-a258-abde66b0b35f"
      },
      "execution_count": null,
      "outputs": [
        {
          "output_type": "stream",
          "name": "stdout",
          "text": [
            "ROC AUC 값 : 0.7493\n"
          ]
        }
      ]
    },
    {
      "cell_type": "markdown",
      "source": [
        "### 8. randomsearchCV 튜닝 - estimator로 예측경우"
      ],
      "metadata": {
        "id": "N3VDeERtXuEI"
      }
    },
    {
      "cell_type": "code",
      "source": [
        "from sklearn.model_selection import KFold, RandomizedSearchCV\n",
        "\n",
        "model = XGBClassifier()\n",
        "\n",
        "xgb_parameters = {\n",
        " 'min_child_weight': [0.5, 1, 3, 5, 8],\n",
        " 'gamma': [0.2, 0.5, 1, 2],\n",
        " 'subsample': [0.4, 0.6, 0.8, 1.0],\n",
        " 'colsample_bytree': [0.2, 0.4, 0.6, 0.8],\n",
        " 'max_depth': [4, 6, 8, 10],\n",
        " 'objective': ['binary:logistic'],\n",
        "}\n",
        "\n",
        "cv = KFold(n_splits=6)\n",
        "\n",
        "rsv = RandomizedSearchCV(model, xgb_parameters, cv=cv, scoring='roc_auc', n_jobs=6, verbose=10)\n",
        "rsv.fit(X_train_1.values,y_train_1.values)\n",
        "estimator = rsv.best_estimator_\n",
        "\n",
        "print('final params', rsv.best_params_)\n",
        "print('best score', rsv.best_score_)"
      ],
      "metadata": {
        "colab": {
          "base_uri": "https://localhost:8080/"
        },
        "id": "GMRUCvUQXkyw",
        "outputId": "31775249-6c96-4132-fb45-a653b298daeb"
      },
      "execution_count": null,
      "outputs": [
        {
          "output_type": "stream",
          "name": "stdout",
          "text": [
            "Fitting 6 folds for each of 10 candidates, totalling 60 fits\n",
            "final params {'subsample': 0.6, 'objective': 'binary:logistic', 'min_child_weight': 0.5, 'max_depth': 8, 'gamma': 0.5, 'colsample_bytree': 0.4}\n",
            "best score 0.7932100278438324\n"
          ]
        }
      ]
    },
    {
      "cell_type": "code",
      "source": [
        "# 파라미터 튜닝후 기준일 1 학습\n",
        "estimator.fit(X_train_1,y_train_1)\n",
        "\n",
        "# 파라미터 튜닝후 기준일 2 예측\n",
        "y_pred_1 = estimator.predict(X_train_2)\n",
        "roc_score = roc_auc_score(y_train_2, y_pred_1)\n",
        "print('ROC AUC 값 : {0:.4f}'.format(roc_score))"
      ],
      "metadata": {
        "colab": {
          "base_uri": "https://localhost:8080/"
        },
        "id": "AC8MArz3XclR",
        "outputId": "a89747d8-8631-48eb-f014-d3ade43ce256"
      },
      "execution_count": null,
      "outputs": [
        {
          "output_type": "stream",
          "name": "stdout",
          "text": [
            "ROC AUC 값 : 0.7557\n"
          ]
        }
      ]
    },
    {
      "cell_type": "markdown",
      "source": [
        "### 9. SMOTE 오버샘플링"
      ],
      "metadata": {
        "id": "FTkWJl5sYoNd"
      }
    },
    {
      "cell_type": "code",
      "source": [
        "from imblearn.over_sampling import SMOTE\n",
        "smote = SMOTE(random_state=42)\n",
        "X_train_1_smote,y_train_1_smote = smote.fit_resample(X_train_1,y_train_1)\n",
        "X_train_2_smote,y_train_2_smote = smote.fit_resample(X_train_2,y_train_2)\n",
        "X_train_3_smote,y_train_3_smote = smote.fit_resample(X_train_3,y_train_3)\n",
        "print('SMOTE 적용 전 학습용 피처/레이블 데이터 세트: ', X_train_1.shape, y_train_1.shape)\n",
        "print('SMOTE 적용 후 학습용 피처/레이블 데이터 세트: ', X_train_1_smote.shape, y_train_1_smote.shape)\n",
        "print('SMOTE 적용 후 레이블 값 분포: \\n', pd.Series(y_train_1_smote).value_counts())"
      ],
      "metadata": {
        "colab": {
          "base_uri": "https://localhost:8080/"
        },
        "id": "7_heQN6YYte1",
        "outputId": "518b715a-0d29-4e49-b0c7-eb0d74e46dee"
      },
      "execution_count": null,
      "outputs": [
        {
          "output_type": "stream",
          "name": "stdout",
          "text": [
            "SMOTE 적용 전 학습용 피처/레이블 데이터 세트:  (72662, 23) (72662,)\n",
            "SMOTE 적용 후 학습용 피처/레이블 데이터 세트:  (86596, 23) (86596,)\n",
            "SMOTE 적용 후 레이블 값 분포: \n",
            " 0    43298\n",
            "1    43298\n",
            "Name: churn, dtype: int64\n"
          ]
        }
      ]
    },
    {
      "cell_type": "code",
      "source": [
        "# SMOTE 오버 샘플링 / 파라미터 튜닝 후 기준일 1 학습\n",
        "estimator.fit(X_train_1_smote,y_train_1_smote)\n",
        "\n",
        "# SMOTE 오버 샘플링 / 파라미터 튜닝 후  기준일 2 예측\n",
        "y_pred_1 = estimator.predict(X_train_2)\n",
        "roc_score = roc_auc_score(y_train_2, y_pred_1)\n",
        "print('ROC AUC 값 : {0:.4f}'.format(roc_score))"
      ],
      "metadata": {
        "colab": {
          "base_uri": "https://localhost:8080/"
        },
        "id": "CHYohSPIZg8o",
        "outputId": "121b4605-0032-4617-c31d-e414b2e3ea36"
      },
      "execution_count": null,
      "outputs": [
        {
          "output_type": "stream",
          "name": "stdout",
          "text": [
            "ROC AUC 값 : 0.7598\n"
          ]
        }
      ]
    }
  ]
}